{
 "cells": [
  {
   "cell_type": "markdown",
   "metadata": {
    "slideshow": {
     "slide_type": "slide"
    }
   },
   "source": [
    "<center> <img src=images/KeyFeaturesOverview.png width=\"200% > </center><br>"
   ]
  },
  {
   "cell_type": "markdown",
   "metadata": {
    "slideshow": {
     "slide_type": "slide"
    }
   },
   "source": [
    "<center> <img src=images/JuliaSyntax.png width=\"200% > </center><br>"
   ]
  },
  {
   "cell_type": "code",
   "execution_count": 2,
   "metadata": {
    "slideshow": {
     "slide_type": "subslide"
    }
   },
   "outputs": [
    {
     "data": {
      "text/plain": [
       "MySum (generic function with 1 method)"
      ]
     },
     "execution_count": 2,
     "metadata": {},
     "output_type": "execute_result"
    }
   ],
   "source": [
    "function MySum(x::Vector{Float64})  \n",
    "    total = 0.0\n",
    "    for i in 1:length(x)\n",
    "        total += x[i]\n",
    "    end\n",
    "    total\n",
    "end"
   ]
  },
  {
   "cell_type": "code",
   "execution_count": 12,
   "metadata": {
    "slideshow": {
     "slide_type": "-"
    }
   },
   "outputs": [
    {
     "data": {
      "text/plain": [
       "10.204973501090725"
      ]
     },
     "execution_count": 12,
     "metadata": {},
     "output_type": "execute_result"
    }
   ],
   "source": [
    "a = randn(100)\n",
    "MySum(a)"
   ]
  },
  {
   "cell_type": "code",
   "execution_count": 13,
   "metadata": {
    "slideshow": {
     "slide_type": "subslide"
    }
   },
   "outputs": [
    {
     "data": {
      "text/plain": [
       "∑ (generic function with 1 method)"
      ]
     },
     "execution_count": 13,
     "metadata": {},
     "output_type": "execute_result"
    }
   ],
   "source": [
    "# Notes: No extra Package to be installed to write with symbol character.\n",
    "function ∑(X)   \n",
    "    total = zero(eltype(X))\n",
    "    for xᵢ in X\n",
    "        total += xᵢ\n",
    "    end\n",
    "    total\n",
    "end"
   ]
  },
  {
   "cell_type": "code",
   "execution_count": 14,
   "metadata": {
    "slideshow": {
     "slide_type": "-"
    }
   },
   "outputs": [
    {
     "data": {
      "text/plain": [
       "-16.474855643307926"
      ]
     },
     "execution_count": 14,
     "metadata": {},
     "output_type": "execute_result"
    }
   ],
   "source": [
    "a = randn(100)\n",
    "∑(a)"
   ]
  },
  {
   "cell_type": "markdown",
   "metadata": {
    "slideshow": {
     "slide_type": "subslide"
    }
   },
   "source": [
    "### Matlab, Python and Julia syntax comparison\n",
    "<center><img src=images/mpjComp1.png alt=\"Cheat sheet\" style=\"width:80%;\"></center>"
   ]
  },
  {
   "cell_type": "markdown",
   "metadata": {
    "slideshow": {
     "slide_type": "subslide"
    }
   },
   "source": [
    "### Matlab, Python and Julia syntax comparison\n",
    "<center><img src=images/mpjComp2.png alt=\"Cheat sheet\" style=\"width:80%;\"></center>"
   ]
  },
  {
   "cell_type": "markdown",
   "metadata": {
    "slideshow": {
     "slide_type": "subslide"
    }
   },
   "source": [
    "<center><div class=\"container-syntax\">\n",
    "  <img src=images/JuliaSyntax2.png alt=\"Snow\" style=\"width:100%;\">\n",
    "  \n",
    "  <div class=link-1><a style=\"text-decoration:none\" href=\"https://docs.julialang.org/en/v1/manual/noteworthy-differences/\"><span style=\"color:#E5E5E5\">Noteworthy</span></a></div>\n",
    "  \n",
    "  <div class=link-2><a style=\"text-decoration:none\" href=\"https://datascience-enthusiast.com/R/R_Julia_cheat_sheet.html\"><span style=\"color:#E5E5E5\">Julia Vs R Comparison</span></a></div>\n",
    "  \n",
    "  <div class=link-3><a style=\"text-decoration:none\" href=\"https://cheatsheets.quantecon.org/\"><span style=\"color:#E5E5E5\">MATLAB–Python–Julia</span></a></div>\n",
    "    \n",
    "  <div class=link-4><a style=\"text-decoration:none\" href=\"https://sebastianraschka.com/blog/2014/matrix_cheatsheet_table.html\"><span style=\"color:#E5E5E5\">Matlab–Python-R–Julia</span></a></div>\n",
    "  \n",
    "</div></center>\n",
    "\n"
   ]
  },
  {
   "cell_type": "markdown",
   "metadata": {
    "slideshow": {
     "slide_type": "slide"
    }
   },
   "source": [
    "<center><div class=\"container-packages\">\n",
    "  <img src=images/JuliaPackages.png alt=\"Snow\" style=\"width:100%;\">\n",
    "  \n",
    "  <div class=link-5><a style=\"text-decoration:none\" href=\"https://pkg.julialang.org/docs/\"><span style=\"color:white\">Registered Packages Doc</span></a></div>\n",
    "  \n",
    "  <div class=link-6><a style=\"text-decoration:none\" href=\"http://localhost:8888/terminals/1\"><span style=\"color:white\">Example</span></a></div>\n",
    "  \n",
    "  \n",
    "</div></center>\n",
    "\n"
   ]
  },
  {
   "cell_type": "markdown",
   "metadata": {
    "slideshow": {
     "slide_type": "subslide"
    }
   },
   "source": [
    "<center> <img src=images/JuliaPackages2.png width=\"200% > </center><br>"
   ]
  },
  {
   "cell_type": "markdown",
   "metadata": {
    "slideshow": {
     "slide_type": "slide"
    }
   },
   "source": [
    "<center> <img src=images/LanguageBinding.png width=\"200% > </center><br>"
   ]
  },
  {
   "cell_type": "markdown",
   "metadata": {
    "slideshow": {
     "slide_type": "slide"
    }
   },
   "source": [
    "<center> <img src=images/benchmarks1.png width=\"200% > </center><br>"
   ]
  }
 ],
 "metadata": {
  "@webio": {
   "lastCommId": null,
   "lastKernelId": null
  },
  "celltoolbar": "Slideshow",
  "jupytext": {
   "formats": "ipynb,jl:light"
  },
  "kernelspec": {
   "display_name": "Julia 1.2.0",
   "language": "julia",
   "name": "julia-1.2"
  },
  "language_info": {
   "file_extension": ".jl",
   "mimetype": "application/julia",
   "name": "julia",
   "version": "1.2.0"
  },
  "rise": {
   "height": "80%",
   "width": "80%"
  },
  "toc": {
   "base_numbering": 1,
   "nav_menu": {},
   "number_sections": true,
   "sideBar": true,
   "skip_h1_title": false,
   "title_cell": "Table of Contents",
   "title_sidebar": "Contents",
   "toc_cell": false,
   "toc_position": {},
   "toc_section_display": true,
   "toc_window_display": false
  }
 },
 "nbformat": 4,
 "nbformat_minor": 2
}
