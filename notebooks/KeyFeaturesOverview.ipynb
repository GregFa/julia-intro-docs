{
 "cells": [
  {
   "cell_type": "markdown",
   "metadata": {
    "slideshow": {
     "slide_type": "slide"
    },
    "tags": []
   },
   "source": [
    "<center> <img src=images/KeyFeaturesOverview.png width=\"200%\" > </center><br>"
   ]
  },
  {
   "cell_type": "markdown",
   "metadata": {
    "slideshow": {
     "slide_type": "slide"
    },
    "tags": []
   },
   "source": [
    "<center> <img src=images/JuliaSyntax.png width=\"200%\" > </center><br>"
   ]
  },
  {
   "cell_type": "code",
   "execution_count": 2,
   "metadata": {
    "slideshow": {
     "slide_type": "subslide"
    }
   },
   "outputs": [
    {
     "data": {
      "text/plain": [
       "MySum (generic function with 1 method)"
      ]
     },
     "execution_count": 2,
     "metadata": {},
     "output_type": "execute_result"
    }
   ],
   "source": [
    "function MySum(x::Vector{Float64})  \n",
    "    total = 0.0\n",
    "    for i in 1:length(x)\n",
    "        total += x[i]\n",
    "    end\n",
    "    total\n",
    "end"
   ]
  },
  {
   "cell_type": "code",
   "execution_count": 12,
   "metadata": {
    "slideshow": {
     "slide_type": "-"
    }
   },
   "outputs": [
    {
     "data": {
      "text/plain": [
       "10.204973501090725"
      ]
     },
     "execution_count": 12,
     "metadata": {},
     "output_type": "execute_result"
    }
   ],
   "source": [
    "a = randn(100)\n",
    "MySum(a)"
   ]
  },
  {
   "cell_type": "code",
   "execution_count": 13,
   "metadata": {
    "slideshow": {
     "slide_type": "subslide"
    }
   },
   "outputs": [
    {
     "data": {
      "text/plain": [
       "∑ (generic function with 1 method)"
      ]
     },
     "execution_count": 13,
     "metadata": {},
     "output_type": "execute_result"
    }
   ],
   "source": [
    "# Notes: No extra Package to be installed to write with symbol character.\n",
    "function ∑(X)   \n",
    "    total = zero(eltype(X))\n",
    "    for xᵢ in X\n",
    "        total += xᵢ\n",
    "    end\n",
    "    total\n",
    "end"
   ]
  },
  {
   "cell_type": "code",
   "execution_count": 14,
   "metadata": {
    "slideshow": {
     "slide_type": "-"
    }
   },
   "outputs": [
    {
     "data": {
      "text/plain": [
       "-16.474855643307926"
      ]
     },
     "execution_count": 14,
     "metadata": {},
     "output_type": "execute_result"
    }
   ],
   "source": [
    "a = randn(100)\n",
    "∑(a)"
   ]
  },
  {
   "cell_type": "markdown",
   "metadata": {
    "slideshow": {
     "slide_type": "subslide"
    }
   },
   "source": [
    "### Matlab, Python and Julia syntax comparison\n",
    "<center><img src=images/mpjComp1.png alt=\"Cheat sheet\" style=\"width:80%;\"></center>"
   ]
  },
  {
   "cell_type": "markdown",
   "metadata": {
    "slideshow": {
     "slide_type": "subslide"
    }
   },
   "source": [
    "### Matlab, Python and Julia syntax comparison\n",
    "<center><img src=images/mpjComp2.png alt=\"Cheat sheet\" style=\"width:80%;\"></center>"
   ]
  },
  {
   "cell_type": "markdown",
   "metadata": {
    "slideshow": {
     "slide_type": "subslide"
    }
   },
   "source": [
    "<center><div class=\"container-syntax\">\n",
    "  <img src=images/JuliaSyntax2.png alt=\"Snow\" style=\"width:100%;\">\n",
    "  \n",
    "  <div class=link-1><a style=\"text-decoration:none\" href=\"https://docs.julialang.org/en/v1/manual/noteworthy-differences/\"><span style=\"color:#E5E5E5\">Noteworthy</span></a></div>\n",
    "  \n",
    "  <div class=link-2><a style=\"text-decoration:none\" href=\"https://datascience-enthusiast.com/R/R_Julia_cheat_sheet.html\"><span style=\"color:#E5E5E5\">Julia Vs R Comparison</span></a></div>\n",
    "  \n",
    "  <div class=link-3><a style=\"text-decoration:none\" href=\"https://cheatsheets.quantecon.org/\"><span style=\"color:#E5E5E5\">MATLAB–Python–Julia</span></a></div>\n",
    "    \n",
    "  <div class=link-4><a style=\"text-decoration:none\" href=\"https://sebastianraschka.com/blog/2014/matrix_cheatsheet_table.html\"><span style=\"color:#E5E5E5\">Matlab–Python-R–Julia</span></a></div>\n",
    "  \n",
    "</div></center>\n",
    "\n"
   ]
  },
  {
   "cell_type": "markdown",
   "metadata": {
    "slideshow": {
     "slide_type": "slide"
    }
   },
   "source": [
    "<center><div class=\"container-packages\">\n",
    "  <img src=images/JuliaPackages.png alt=\"Snow\" style=\"width:100%;\">\n",
    "  \n",
    "  <div class=link-5><a style=\"text-decoration:none\" href=\"https://pkg.julialang.org/docs/\"><span style=\"color:white\">Registered Packages Doc</span></a></div>\n",
    "  \n",
    "  <div class=link-6><a style=\"text-decoration:none\" href=\"http://localhost:8888/terminals/1\"><span style=\"color:white\">Example</span></a></div>\n",
    "  \n",
    "  \n",
    "</div></center>\n",
    "\n"
   ]
  },
  {
   "cell_type": "markdown",
   "metadata": {
    "slideshow": {
     "slide_type": "subslide"
    }
   },
   "source": [
    "<center> <img src=images/JuliaPackages2.png width=\"200%\" > </center><br>"
   ]
  },
  {
   "cell_type": "markdown",
   "metadata": {
    "slideshow": {
     "slide_type": "slide"
    }
   },
   "source": [
    "<center> <img src=images/LanguageBinding.png width=\"200%\" > </center><br>"
   ]
  },
  {
   "cell_type": "markdown",
   "metadata": {
    "lines_to_next_cell": 0,
    "slideshow": {
     "slide_type": "slide"
    }
   },
   "source": [
    "<center> <img src=images/benchmarks1.png width=\"200%\" > </center><br>"
   ]
  },
  {
   "cell_type": "markdown",
   "metadata": {
    "lines_to_next_cell": 2,
    "slideshow": {
     "slide_type": "slide"
    }
   },
   "source": [
    "<center> <img src=images/JuliaTypes.png width=\"200%\" > </center><br>"
   ]
  },
  {
   "cell_type": "markdown",
   "metadata": {
    "slideshow": {
     "slide_type": "slide"
    }
   },
   "source": [
    "<center> <img src=images/OOJulia.png height= \"1000px\" > </center><br>"
   ]
  },
  {
   "cell_type": "markdown",
   "metadata": {
    "slideshow": {
     "slide_type": "subslide"
    }
   },
   "source": [
    "In more conventional object oriented languages like C++, classes could include functions (and methods) in data type definition. The  main difference with Julia is that methods do not belong to any object. The concept of the object orientation in Julia is that functions operate on data, and they are not part of the data."
   ]
  },
  {
   "cell_type": "markdown",
   "metadata": {
    "slideshow": {
     "slide_type": "fragment"
    }
   },
   "source": [
    "Objects in Julia can only be inherited from Abstract types. This is similar to interfaces in Java, classes containing pure virtual methods in C++, or abstract classes in Python. "
   ]
  },
  {
   "cell_type": "markdown",
   "metadata": {
    "slideshow": {
     "slide_type": "subslide"
    }
   },
   "source": [
    "\n",
    "### Object orientation analogy between Python and Julia\n",
    "\n",
    "---\n",
    "\n",
    "\n",
    "\n",
    "\n",
    "| Python | Julia|\n",
    "|:-------|:-----|\n",
    "|Class<br>class Lion:   <br>  &nbsp;&nbsp;&nbsp;&nbsp;&nbsp;&nbsp; family = \"Felidae\"<br>&nbsp;&nbsp;&nbsp;&nbsp;&nbsp;&nbsp;  def \\__init\\__\\(self, name\\):<br> &nbsp;&nbsp;&nbsp;&nbsp;&nbsp;&nbsp;&nbsp;&nbsp;&nbsp;&nbsp;&nbsp;&nbsp;  self\\.name = name<br> <br>&nbsp;&nbsp;&nbsp;&nbsp;&nbsp;&nbsp;  def sounds\\(self\\):<br>&nbsp;&nbsp;&nbsp;&nbsp;&nbsp;&nbsp;&nbsp;&nbsp;&nbsp;&nbsp;&nbsp;&nbsp; print\\(self.name, \"roars.\"\\) <br><br>&nbsp;&nbsp;&nbsp;&nbsp;&nbsp;&nbsp;  def description\\(self\\):<br>&nbsp;&nbsp;&nbsp;&nbsp;&nbsp;&nbsp;&nbsp;&nbsp;&nbsp;&nbsp;&nbsp;&nbsp; message = '\\{\\} is a lion from the family of \\{\\}.'<br> &nbsp;&nbsp;&nbsp;&nbsp;&nbsp;&nbsp;&nbsp;&nbsp;&nbsp;&nbsp;&nbsp;&nbsp;&nbsp;print(message.format(self.name, self.family))<br><br>class Cardinal:   <br>  &nbsp;&nbsp;&nbsp;&nbsp;&nbsp;&nbsp; family = \"Cardinalidae\"<br>&nbsp;&nbsp;&nbsp;&nbsp;&nbsp;&nbsp;  def \\__init\\__\\(self, name\\):<br> &nbsp;&nbsp;&nbsp;&nbsp;&nbsp;&nbsp;&nbsp;&nbsp;&nbsp;&nbsp;&nbsp;&nbsp;  self\\.name = name<br> <br>&nbsp;&nbsp;&nbsp;&nbsp;&nbsp;&nbsp;  def sounds\\(self\\):<br>&nbsp;&nbsp;&nbsp;&nbsp;&nbsp;&nbsp;&nbsp;&nbsp;&nbsp;&nbsp;&nbsp;&nbsp; print\\(self.name, \"sings.\"\\) <br><br>&nbsp;&nbsp;&nbsp;&nbsp;&nbsp;&nbsp;  def description\\(self\\):<br>&nbsp;&nbsp;&nbsp;&nbsp;&nbsp;&nbsp;&nbsp;&nbsp;&nbsp;&nbsp;&nbsp;&nbsp; message = '\\{\\} is a bird from the family of \\{\\}.'<br> &nbsp;&nbsp;&nbsp;&nbsp;&nbsp;&nbsp;&nbsp;&nbsp;&nbsp;&nbsp;&nbsp;&nbsp;&nbsp;print(message.format(self.name, self.family))<br><br>########################################### <br><br> bigCat = Lion\\(\"Simba\"\\)<br> bird = Cardinal\\(\"Red\"\\)<br><br>  bigCat.sounds\\(\\)<br> bigCat.description\\(\\)<br><br>  bird.sounds\\(\\)<br> bird.description\\(\\) <br> |abstract type Felidae end  <br>abstract type Cardinalidae end<br><br> struct Lion <:Felidae<br> &nbsp;&nbsp;&nbsp;&nbsp;&nbsp; name::String<br>end <br><br>struct Cardinal <:Cardinalidae <br> &nbsp;&nbsp;&nbsp;&nbsp;&nbsp; name::String<br>end <br><br>family\\(x::Felidae\\) = \"Felidae\"<br>family\\(x::Cardinalidae\\) = \"Cardinalidae\"<br><br> sounds\\(animal::Lion\\) =  println\\(animal.name * \" roars.\"\\)<br>description\\(animal::Lion\\) = println\\(animal.name * \" is a lion from the family of \" * family\\(animal\\) * \".\"\\)<br><br> sounds\\(animal::Cardinal\\) = println\\(animal.name * \" sings.\"\\)<br>description\\(animal::Cardinal\\) = println\\(animal.name * \" is a bird from the family of \" * family\\(animal\\) * \".\"\\)<br><br>########################################### <br><br>    bigCat = Lion\\(\"Simba\"\\)<br> bird = Cardinal\\(\"Red\"\\)<br><br>sounds\\(bigCat\\)<br> description\\(bigCat\\)<br><br>  sounds\\(bird\\)<br> description\\(bird\\) <br><br><br><br><br>\n",
    "|\n"
   ]
  },
  {
   "cell_type": "code",
   "execution_count": 1,
   "metadata": {
    "slideshow": {
     "slide_type": "subslide"
    }
   },
   "outputs": [],
   "source": [
    "# Create abstract type for feline and cardinalids\n",
    "abstract type Felidae end\n",
    "abstract type Cardinalidae end"
   ]
  },
  {
   "cell_type": "code",
   "execution_count": 2,
   "metadata": {
    "slideshow": {
     "slide_type": "fragment"
    }
   },
   "outputs": [],
   "source": [
    "# Composite type for lions\n",
    "struct Lion <:Felidae\n",
    "    name::String\n",
    "end\n",
    "# Composite type for cardinals\n",
    "struct Cardinal <:Cardinalidae\n",
    "    name::String\n",
    "end"
   ]
  },
  {
   "cell_type": "code",
   "execution_count": 3,
   "metadata": {
    "slideshow": {
     "slide_type": "fragment"
    }
   },
   "outputs": [
    {
     "data": {
      "text/plain": [
       "family (generic function with 2 methods)"
      ]
     },
     "execution_count": 3,
     "metadata": {},
     "output_type": "execute_result"
    }
   ],
   "source": [
    "# Methods returning species family name\n",
    "# Feline\n",
    "family(x::Felidae) = \"Felidae\"\n",
    "# Cardinalids\n",
    "family(x::Cardinalidae) = \"Cardinalidae\""
   ]
  },
  {
   "cell_type": "code",
   "execution_count": 4,
   "metadata": {
    "slideshow": {
     "slide_type": "fragment"
    }
   },
   "outputs": [
    {
     "data": {
      "text/plain": [
       "description (generic function with 2 methods)"
      ]
     },
     "execution_count": 4,
     "metadata": {},
     "output_type": "execute_result"
    }
   ],
   "source": [
    "# Methods associated with the Lion and Cardinal types\n",
    "# Lion methods\n",
    "sounds(animal::Lion) =  println(animal.name * \" roars.\")\n",
    "description(animal::Lion) = println(animal.name * \" is a lion from the family of \" * family(animal) * \".\")\n",
    "# Cardinal methods\n",
    "sounds(animal::Cardinal) = println(animal.name * \" roars.\")\n",
    "description(animal::Cardinal) = println(animal.name * \" is a bird from the family of \" * family(animal) * \".\")"
   ]
  },
  {
   "cell_type": "code",
   "execution_count": 5,
   "metadata": {
    "slideshow": {
     "slide_type": "subslide"
    }
   },
   "outputs": [],
   "source": [
    "bigCat = Lion(\"Simba\")\n",
    "bird = Cardinal(\"Red\");"
   ]
  },
  {
   "cell_type": "code",
   "execution_count": 6,
   "metadata": {
    "slideshow": {
     "slide_type": "fragment"
    }
   },
   "outputs": [
    {
     "name": "stdout",
     "output_type": "stream",
     "text": [
      "Simba roars.\n",
      "Simba is a lion from the family of Felidae.\n"
     ]
    }
   ],
   "source": [
    "sounds(bigCat) \n",
    "description(bigCat) "
   ]
  },
  {
   "cell_type": "code",
   "execution_count": 7,
   "metadata": {
    "slideshow": {
     "slide_type": "fragment"
    }
   },
   "outputs": [
    {
     "name": "stdout",
     "output_type": "stream",
     "text": [
      "Red roars.\n",
      "Red is a bird from the family of Cardinalidae.\n"
     ]
    }
   ],
   "source": [
    "sounds(bird) \n",
    "description(bird) "
   ]
  }
 ],
 "metadata": {
  "@webio": {
   "lastCommId": null,
   "lastKernelId": null
  },
  "celltoolbar": "Slideshow",
  "jupytext": {
   "cell_metadata_json": true,
   "encoding": "# -*- coding: utf-8 -*-",
   "formats": "ipynb,jl:light"
  },
  "kernelspec": {
   "display_name": "Julia 1.6.3",
   "language": "julia",
   "name": "julia-1.6"
  },
  "language_info": {
   "file_extension": ".jl",
   "mimetype": "application/julia",
   "name": "julia",
   "version": "1.6.3"
  },
  "rise": {
   "height": "80%",
   "width": "80%"
  },
  "toc": {
   "base_numbering": 1,
   "nav_menu": {},
   "number_sections": true,
   "sideBar": true,
   "skip_h1_title": false,
   "title_cell": "Table of Contents",
   "title_sidebar": "Contents",
   "toc_cell": false,
   "toc_position": {},
   "toc_section_display": true,
   "toc_window_display": false
  }
 },
 "nbformat": 4,
 "nbformat_minor": 4
}
